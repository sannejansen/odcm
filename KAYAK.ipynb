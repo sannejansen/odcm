{
  "cells": [
    {
      "cell_type": "markdown",
      "metadata": {
        "id": "view-in-github",
        "colab_type": "text"
      },
      "source": [
        "<a href=\"https://colab.research.google.com/github/irisvanwalraven/odcm/blob/main/KAYAK.ipynb\" target=\"_parent\"><img src=\"https://colab.research.google.com/assets/colab-badge.svg\" alt=\"Open In Colab\"/></a>"
      ]
    },
    {
      "cell_type": "markdown",
      "id": "a442b872",
      "metadata": {
        "id": "a442b872"
      },
      "source": [
        "# <span style=\"color:orange\">Scraping data from KAYAK</span>\n",
        "\n",
        "For the course Online Data Collection & Management at Tilburg University, our team aims to scrape data from the website kayak.com. KAYAK provides a service that compares airline tickets with one another. When on the explore page, KAYAK provides a set of destinations based on the airport of departure. The purpose of this scraper is to create a dataset in which the suggested destinations based on the airport of departure (the top 10 biggest airports in Europe) become visible in April for a trip duration of five days.\n",
        "\n",
        "## Top 10: Biggest airports in Europe\n",
        "The top 10 of the biggest airports in Europe is as follows:\n",
        "1. London Heathrow Airport, United Kingdom (LHA)\n",
        "2. Aéroport de Paris-Charles de Gaulle, France (CDG)\n",
        "3. Amsterdam Airport Schiphol, the Netherlands (AMS)\n",
        "4. Flughafen Frankfurt am Main, Germany (FRA)\n",
        "5. Aeropuerto Adolfo Suárez Madrid-Barajas, Spain (MAD)\n",
        "6. Aeroport de Barcelona-el Prat, Spain (BCN)\n",
        "7. Istanbul Airport, Turkey (IST)\n",
        "8. Sheremetyevo International Airport, Russia (SVO)\n",
        "9. Flughafen München Franz Josef Strauß, Germany (MUC)\n",
        "10. London Gatwick Airport, United Kingdom (LGW)"
      ]
    },
    {
      "cell_type": "markdown",
      "id": "a76a424e",
      "metadata": {
        "id": "a76a424e"
      },
      "source": [
        "In this notebook we will discuss the scraping in three chapters:\n",
        "1. The preparation before scraping\n",
        "2. The kayak.com/explore scraper\n",
        "3. Saving the scraped data in a csv file"
      ]
    },
    {
      "cell_type": "markdown",
      "id": "d489c50d",
      "metadata": {
        "id": "d489c50d"
      },
      "source": [
        "# <span style=\"color:orange\">1. The preparation before scraping</span>\n",
        "Before the explore page of kayak can be scraped a few things need to be done. The libraries need to be imported for the code to run. \n",
        "\n",
        "## 1.1 Importing libraries\n",
        "In the first cell the necessary libraries for running our code are imported. This are the libraries we need:\n",
        "* The requests library lets us make HTML request to Kayak's website server for retrieving the data from their page.\n",
        "* The BeautifulSoup library is easy to use for beginners and will allow us to extract data from HTML files.\n",
        "* The time library will be used to pause the execution of the commands. We use this because of the amount of data we gather. \n",
        "* The csv library will be used to store the scraped data in a csv file in the end.\n",
        "* The datetime library is necessary to add the current day to our csv file.\n"
      ]
    },
    {
      "cell_type": "code",
      "source": [
        "import requests\n",
        "from bs4 import BeautifulSoup\n",
        "import time\n",
        "from time import sleep \n",
        "import csv\n",
        "from datetime import datetime\n"
      ],
      "metadata": {
        "id": "Rxa1qLm_20dm"
      },
      "id": "Rxa1qLm_20dm",
      "execution_count": null,
      "outputs": []
    },
    {
      "cell_type": "code",
      "source": [
        "# To use Chromedriver on Google Colab, run this code\n",
        "!pip install selenium\n",
        "!apt-get update \n",
        "!apt install chromium-chromedriver\n",
        "\n",
        "from selenium import webdriver\n",
        "chrome_options = webdriver.ChromeOptions()\n",
        "chrome_options.add_argument('--headless')\n",
        "chrome_options.add_argument('--no-sandbox')\n",
        "chrome_options.add_argument('--disable-dev-shm-usage')\n",
        "driver = webdriver.Chrome('chromedriver',chrome_options=chrome_options)"
      ],
      "metadata": {
        "colab": {
          "base_uri": "https://localhost:8080/",
          "height": 1000
        },
        "id": "KHO5TdajVmop",
        "outputId": "5ea9fdbb-2629-4744-b8ba-9f256e3b4685"
      },
      "id": "KHO5TdajVmop",
      "execution_count": null,
      "outputs": [
        {
          "output_type": "stream",
          "name": "stdout",
          "text": [
            "Collecting selenium\n",
            "  Downloading selenium-4.1.3-py3-none-any.whl (968 kB)\n",
            "\u001b[?25l\r\u001b[K     |▍                               | 10 kB 22.3 MB/s eta 0:00:01\r\u001b[K     |▊                               | 20 kB 30.2 MB/s eta 0:00:01\r\u001b[K     |█                               | 30 kB 24.3 MB/s eta 0:00:01\r\u001b[K     |█▍                              | 40 kB 13.6 MB/s eta 0:00:01\r\u001b[K     |█▊                              | 51 kB 10.3 MB/s eta 0:00:01\r\u001b[K     |██                              | 61 kB 12.0 MB/s eta 0:00:01\r\u001b[K     |██▍                             | 71 kB 13.2 MB/s eta 0:00:01\r\u001b[K     |██▊                             | 81 kB 12.6 MB/s eta 0:00:01\r\u001b[K     |███                             | 92 kB 13.4 MB/s eta 0:00:01\r\u001b[K     |███▍                            | 102 kB 12.7 MB/s eta 0:00:01\r\u001b[K     |███▊                            | 112 kB 12.7 MB/s eta 0:00:01\r\u001b[K     |████                            | 122 kB 12.7 MB/s eta 0:00:01\r\u001b[K     |████▍                           | 133 kB 12.7 MB/s eta 0:00:01\r\u001b[K     |████▊                           | 143 kB 12.7 MB/s eta 0:00:01\r\u001b[K     |█████                           | 153 kB 12.7 MB/s eta 0:00:01\r\u001b[K     |█████▍                          | 163 kB 12.7 MB/s eta 0:00:01\r\u001b[K     |█████▊                          | 174 kB 12.7 MB/s eta 0:00:01\r\u001b[K     |██████                          | 184 kB 12.7 MB/s eta 0:00:01\r\u001b[K     |██████▍                         | 194 kB 12.7 MB/s eta 0:00:01\r\u001b[K     |██████▊                         | 204 kB 12.7 MB/s eta 0:00:01\r\u001b[K     |███████                         | 215 kB 12.7 MB/s eta 0:00:01\r\u001b[K     |███████▍                        | 225 kB 12.7 MB/s eta 0:00:01\r\u001b[K     |███████▉                        | 235 kB 12.7 MB/s eta 0:00:01\r\u001b[K     |████████▏                       | 245 kB 12.7 MB/s eta 0:00:01\r\u001b[K     |████████▌                       | 256 kB 12.7 MB/s eta 0:00:01\r\u001b[K     |████████▉                       | 266 kB 12.7 MB/s eta 0:00:01\r\u001b[K     |█████████▏                      | 276 kB 12.7 MB/s eta 0:00:01\r\u001b[K     |█████████▌                      | 286 kB 12.7 MB/s eta 0:00:01\r\u001b[K     |█████████▉                      | 296 kB 12.7 MB/s eta 0:00:01\r\u001b[K     |██████████▏                     | 307 kB 12.7 MB/s eta 0:00:01\r\u001b[K     |██████████▌                     | 317 kB 12.7 MB/s eta 0:00:01\r\u001b[K     |██████████▉                     | 327 kB 12.7 MB/s eta 0:00:01\r\u001b[K     |███████████▏                    | 337 kB 12.7 MB/s eta 0:00:01\r\u001b[K     |███████████▌                    | 348 kB 12.7 MB/s eta 0:00:01\r\u001b[K     |███████████▉                    | 358 kB 12.7 MB/s eta 0:00:01\r\u001b[K     |████████████▏                   | 368 kB 12.7 MB/s eta 0:00:01\r\u001b[K     |████████████▌                   | 378 kB 12.7 MB/s eta 0:00:01\r\u001b[K     |████████████▉                   | 389 kB 12.7 MB/s eta 0:00:01\r\u001b[K     |█████████████▏                  | 399 kB 12.7 MB/s eta 0:00:01\r\u001b[K     |█████████████▌                  | 409 kB 12.7 MB/s eta 0:00:01\r\u001b[K     |█████████████▉                  | 419 kB 12.7 MB/s eta 0:00:01\r\u001b[K     |██████████████▏                 | 430 kB 12.7 MB/s eta 0:00:01\r\u001b[K     |██████████████▌                 | 440 kB 12.7 MB/s eta 0:00:01\r\u001b[K     |██████████████▉                 | 450 kB 12.7 MB/s eta 0:00:01\r\u001b[K     |███████████████▏                | 460 kB 12.7 MB/s eta 0:00:01\r\u001b[K     |███████████████▋                | 471 kB 12.7 MB/s eta 0:00:01\r\u001b[K     |████████████████                | 481 kB 12.7 MB/s eta 0:00:01\r\u001b[K     |████████████████▎               | 491 kB 12.7 MB/s eta 0:00:01\r\u001b[K     |████████████████▋               | 501 kB 12.7 MB/s eta 0:00:01\r\u001b[K     |█████████████████               | 512 kB 12.7 MB/s eta 0:00:01\r\u001b[K     |█████████████████▎              | 522 kB 12.7 MB/s eta 0:00:01\r\u001b[K     |█████████████████▋              | 532 kB 12.7 MB/s eta 0:00:01\r\u001b[K     |██████████████████              | 542 kB 12.7 MB/s eta 0:00:01\r\u001b[K     |██████████████████▎             | 552 kB 12.7 MB/s eta 0:00:01\r\u001b[K     |██████████████████▋             | 563 kB 12.7 MB/s eta 0:00:01\r\u001b[K     |███████████████████             | 573 kB 12.7 MB/s eta 0:00:01\r\u001b[K     |███████████████████▎            | 583 kB 12.7 MB/s eta 0:00:01\r\u001b[K     |███████████████████▋            | 593 kB 12.7 MB/s eta 0:00:01\r\u001b[K     |████████████████████            | 604 kB 12.7 MB/s eta 0:00:01\r\u001b[K     |████████████████████▎           | 614 kB 12.7 MB/s eta 0:00:01\r\u001b[K     |████████████████████▋           | 624 kB 12.7 MB/s eta 0:00:01\r\u001b[K     |█████████████████████           | 634 kB 12.7 MB/s eta 0:00:01\r\u001b[K     |█████████████████████▎          | 645 kB 12.7 MB/s eta 0:00:01\r\u001b[K     |█████████████████████▋          | 655 kB 12.7 MB/s eta 0:00:01\r\u001b[K     |██████████████████████          | 665 kB 12.7 MB/s eta 0:00:01\r\u001b[K     |██████████████████████▎         | 675 kB 12.7 MB/s eta 0:00:01\r\u001b[K     |██████████████████████▋         | 686 kB 12.7 MB/s eta 0:00:01\r\u001b[K     |███████████████████████         | 696 kB 12.7 MB/s eta 0:00:01\r\u001b[K     |███████████████████████▍        | 706 kB 12.7 MB/s eta 0:00:01\r\u001b[K     |███████████████████████▊        | 716 kB 12.7 MB/s eta 0:00:01\r\u001b[K     |████████████████████████        | 727 kB 12.7 MB/s eta 0:00:01\r\u001b[K     |████████████████████████▍       | 737 kB 12.7 MB/s eta 0:00:01\r\u001b[K     |████████████████████████▊       | 747 kB 12.7 MB/s eta 0:00:01\r\u001b[K     |█████████████████████████       | 757 kB 12.7 MB/s eta 0:00:01\r\u001b[K     |█████████████████████████▍      | 768 kB 12.7 MB/s eta 0:00:01\r\u001b[K     |█████████████████████████▊      | 778 kB 12.7 MB/s eta 0:00:01\r\u001b[K     |██████████████████████████      | 788 kB 12.7 MB/s eta 0:00:01\r\u001b[K     |██████████████████████████▍     | 798 kB 12.7 MB/s eta 0:00:01\r\u001b[K     |██████████████████████████▊     | 808 kB 12.7 MB/s eta 0:00:01\r\u001b[K     |███████████████████████████     | 819 kB 12.7 MB/s eta 0:00:01\r\u001b[K     |███████████████████████████▍    | 829 kB 12.7 MB/s eta 0:00:01\r\u001b[K     |███████████████████████████▊    | 839 kB 12.7 MB/s eta 0:00:01\r\u001b[K     |████████████████████████████    | 849 kB 12.7 MB/s eta 0:00:01\r\u001b[K     |████████████████████████████▍   | 860 kB 12.7 MB/s eta 0:00:01\r\u001b[K     |████████████████████████████▊   | 870 kB 12.7 MB/s eta 0:00:01\r\u001b[K     |█████████████████████████████   | 880 kB 12.7 MB/s eta 0:00:01\r\u001b[K     |█████████████████████████████▍  | 890 kB 12.7 MB/s eta 0:00:01\r\u001b[K     |█████████████████████████████▊  | 901 kB 12.7 MB/s eta 0:00:01\r\u001b[K     |██████████████████████████████  | 911 kB 12.7 MB/s eta 0:00:01\r\u001b[K     |██████████████████████████████▍ | 921 kB 12.7 MB/s eta 0:00:01\r\u001b[K     |██████████████████████████████▉ | 931 kB 12.7 MB/s eta 0:00:01\r\u001b[K     |███████████████████████████████▏| 942 kB 12.7 MB/s eta 0:00:01\r\u001b[K     |███████████████████████████████▌| 952 kB 12.7 MB/s eta 0:00:01\r\u001b[K     |███████████████████████████████▉| 962 kB 12.7 MB/s eta 0:00:01\r\u001b[K     |████████████████████████████████| 968 kB 12.7 MB/s \n",
            "\u001b[?25hCollecting trio-websocket~=0.9\n",
            "  Downloading trio_websocket-0.9.2-py3-none-any.whl (16 kB)\n",
            "Collecting urllib3[secure,socks]~=1.26\n",
            "  Downloading urllib3-1.26.9-py2.py3-none-any.whl (138 kB)\n",
            "\u001b[K     |████████████████████████████████| 138 kB 67.3 MB/s \n",
            "\u001b[?25hCollecting trio~=0.17\n",
            "  Downloading trio-0.20.0-py3-none-any.whl (359 kB)\n",
            "\u001b[K     |████████████████████████████████| 359 kB 68.0 MB/s \n",
            "\u001b[?25hRequirement already satisfied: sortedcontainers in /usr/local/lib/python3.7/dist-packages (from trio~=0.17->selenium) (2.4.0)\n",
            "Collecting outcome\n",
            "  Downloading outcome-1.1.0-py2.py3-none-any.whl (9.7 kB)\n",
            "Requirement already satisfied: attrs>=19.2.0 in /usr/local/lib/python3.7/dist-packages (from trio~=0.17->selenium) (21.4.0)\n",
            "Collecting sniffio\n",
            "  Downloading sniffio-1.2.0-py3-none-any.whl (10 kB)\n",
            "Collecting async-generator>=1.9\n",
            "  Downloading async_generator-1.10-py3-none-any.whl (18 kB)\n",
            "Requirement already satisfied: idna in /usr/local/lib/python3.7/dist-packages (from trio~=0.17->selenium) (2.10)\n",
            "Collecting wsproto>=0.14\n",
            "  Downloading wsproto-1.1.0-py3-none-any.whl (24 kB)\n",
            "Collecting cryptography>=1.3.4\n",
            "  Downloading cryptography-36.0.2-cp36-abi3-manylinux_2_24_x86_64.whl (3.6 MB)\n",
            "\u001b[K     |████████████████████████████████| 3.6 MB 64.4 MB/s \n",
            "\u001b[?25hCollecting pyOpenSSL>=0.14\n",
            "  Downloading pyOpenSSL-22.0.0-py2.py3-none-any.whl (55 kB)\n",
            "\u001b[K     |████████████████████████████████| 55 kB 3.0 MB/s \n",
            "\u001b[?25hRequirement already satisfied: certifi in /usr/local/lib/python3.7/dist-packages (from urllib3[secure,socks]~=1.26->selenium) (2021.10.8)\n",
            "Requirement already satisfied: PySocks!=1.5.7,<2.0,>=1.5.6 in /usr/local/lib/python3.7/dist-packages (from urllib3[secure,socks]~=1.26->selenium) (1.7.1)\n",
            "Requirement already satisfied: cffi>=1.12 in /usr/local/lib/python3.7/dist-packages (from cryptography>=1.3.4->urllib3[secure,socks]~=1.26->selenium) (1.15.0)\n",
            "Requirement already satisfied: pycparser in /usr/local/lib/python3.7/dist-packages (from cffi>=1.12->cryptography>=1.3.4->urllib3[secure,socks]~=1.26->selenium) (2.21)\n",
            "Collecting h11<1,>=0.9.0\n",
            "  Downloading h11-0.13.0-py3-none-any.whl (58 kB)\n",
            "\u001b[K     |████████████████████████████████| 58 kB 5.1 MB/s \n",
            "\u001b[?25hRequirement already satisfied: typing-extensions in /usr/local/lib/python3.7/dist-packages (from h11<1,>=0.9.0->wsproto>=0.14->trio-websocket~=0.9->selenium) (3.10.0.2)\n",
            "Installing collected packages: sniffio, outcome, h11, cryptography, async-generator, wsproto, urllib3, trio, pyOpenSSL, trio-websocket, selenium\n",
            "  Attempting uninstall: urllib3\n",
            "    Found existing installation: urllib3 1.24.3\n",
            "    Uninstalling urllib3-1.24.3:\n",
            "      Successfully uninstalled urllib3-1.24.3\n",
            "\u001b[31mERROR: pip's dependency resolver does not currently take into account all the packages that are installed. This behaviour is the source of the following dependency conflicts.\n",
            "requests 2.23.0 requires urllib3!=1.25.0,!=1.25.1,<1.26,>=1.21.1, but you have urllib3 1.26.9 which is incompatible.\n",
            "datascience 0.10.6 requires folium==0.2.1, but you have folium 0.8.3 which is incompatible.\u001b[0m\n",
            "Successfully installed async-generator-1.10 cryptography-36.0.2 h11-0.13.0 outcome-1.1.0 pyOpenSSL-22.0.0 selenium-4.1.3 sniffio-1.2.0 trio-0.20.0 trio-websocket-0.9.2 urllib3-1.26.9 wsproto-1.1.0\n"
          ]
        },
        {
          "output_type": "display_data",
          "data": {
            "application/vnd.colab-display-data+json": {
              "pip_warning": {
                "packages": [
                  "urllib3"
                ]
              }
            }
          },
          "metadata": {}
        },
        {
          "output_type": "stream",
          "name": "stdout",
          "text": [
            "\r0% [Working]\r            \rHit:1 http://archive.ubuntu.com/ubuntu bionic InRelease\n",
            "\r0% [Waiting for headers] [Connecting to security.ubuntu.com (91.189.91.39)] [Co\r                                                                               \rGet:2 http://archive.ubuntu.com/ubuntu bionic-updates InRelease [88.7 kB]\n",
            "\r                                                                               \rGet:3 http://ppa.launchpad.net/c2d4u.team/c2d4u4.0+/ubuntu bionic InRelease [15.9 kB]\n",
            "\r                                                                               \rHit:4 http://ppa.launchpad.net/cran/libgit2/ubuntu bionic InRelease\n",
            "\r0% [Waiting for headers] [Connecting to security.ubuntu.com (91.189.91.39)] [Wa\r0% [1 InRelease gpgv 242 kB] [Waiting for headers] [Connecting to security.ubun\r                                                                               \rGet:5 https://cloud.r-project.org/bin/linux/ubuntu bionic-cran40/ InRelease [3,626 B]\n",
            "\r0% [1 InRelease gpgv 242 kB] [Waiting for headers] [Connecting to security.ubun\r                                                                               \rGet:6 http://archive.ubuntu.com/ubuntu bionic-backports InRelease [74.6 kB]\n",
            "\r0% [1 InRelease gpgv 242 kB] [6 InRelease 9,844 B/74.6 kB 13%] [Connecting to s\r                                                                               \rGet:7 http://ppa.launchpad.net/deadsnakes/ppa/ubuntu bionic InRelease [15.9 kB]\n",
            "\r0% [1 InRelease gpgv 242 kB] [6 InRelease 70.7 kB/74.6 kB 95%] [Waiting for hea\r0% [1 InRelease gpgv 242 kB] [Waiting for headers] [7 InRelease 2,572 B/15.9 kB\r0% [1 InRelease gpgv 242 kB] [Waiting for headers] [Connecting to ppa.launchpad\r                                                                               \rGet:8 http://ppa.launchpad.net/graphics-drivers/ppa/ubuntu bionic InRelease [21.3 kB]\n",
            "Get:9 http://security.ubuntu.com/ubuntu bionic-security InRelease [88.7 kB]\n",
            "Ign:10 https://developer.download.nvidia.com/compute/cuda/repos/ubuntu1804/x86_64  InRelease\n",
            "Ign:11 https://developer.download.nvidia.com/compute/machine-learning/repos/ubuntu1804/x86_64  InRelease\n",
            "Get:12 https://developer.download.nvidia.com/compute/cuda/repos/ubuntu1804/x86_64  Release [696 B]\n",
            "Hit:13 https://developer.download.nvidia.com/compute/machine-learning/repos/ubuntu1804/x86_64  Release\n",
            "Get:14 https://developer.download.nvidia.com/compute/cuda/repos/ubuntu1804/x86_64  Release.gpg [836 B]\n",
            "Get:15 http://archive.ubuntu.com/ubuntu bionic-updates/multiverse amd64 Packages [29.8 kB]\n",
            "Get:16 http://archive.ubuntu.com/ubuntu bionic-updates/universe amd64 Packages [2,264 kB]\n",
            "Get:17 http://archive.ubuntu.com/ubuntu bionic-updates/main amd64 Packages [3,123 kB]\n",
            "Get:18 http://archive.ubuntu.com/ubuntu bionic-updates/restricted amd64 Packages [913 kB]\n",
            "Get:19 http://ppa.launchpad.net/c2d4u.team/c2d4u4.0+/ubuntu bionic/main Sources [1,830 kB]\n",
            "Get:20 http://ppa.launchpad.net/c2d4u.team/c2d4u4.0+/ubuntu bionic/main amd64 Packages [937 kB]\n",
            "Get:21 https://cloud.r-project.org/bin/linux/ubuntu bionic-cran40/ Packages [80.8 kB]\n",
            "Get:22 http://archive.ubuntu.com/ubuntu bionic-backports/main amd64 Packages [12.2 kB]\n",
            "Get:23 http://archive.ubuntu.com/ubuntu bionic-backports/universe amd64 Packages [12.9 kB]\n",
            "Get:24 http://ppa.launchpad.net/deadsnakes/ppa/ubuntu bionic/main amd64 Packages [45.3 kB]\n",
            "Get:25 http://ppa.launchpad.net/graphics-drivers/ppa/ubuntu bionic/main amd64 Packages [44.3 kB]\n",
            "Get:27 https://developer.download.nvidia.com/compute/cuda/repos/ubuntu1804/x86_64  Packages [950 kB]\n",
            "Get:28 http://security.ubuntu.com/ubuntu bionic-security/main amd64 Packages [2,678 kB]\n",
            "Get:29 http://security.ubuntu.com/ubuntu bionic-security/universe amd64 Packages [1,486 kB]\n",
            "Get:30 http://security.ubuntu.com/ubuntu bionic-security/restricted amd64 Packages [878 kB]\n",
            "Fetched 15.6 MB in 4s (4,403 kB/s)\n",
            "Reading package lists... Done\n",
            "Reading package lists... Done\n",
            "Building dependency tree       \n",
            "Reading state information... Done\n",
            "The following additional packages will be installed:\n",
            "  chromium-browser chromium-browser-l10n chromium-codecs-ffmpeg-extra\n",
            "Suggested packages:\n",
            "  webaccounts-chromium-extension unity-chromium-extension\n",
            "The following NEW packages will be installed:\n",
            "  chromium-browser chromium-browser-l10n chromium-chromedriver\n",
            "  chromium-codecs-ffmpeg-extra\n",
            "0 upgraded, 4 newly installed, 0 to remove and 81 not upgraded.\n",
            "Need to get 88.3 MB of archives.\n",
            "After this operation, 294 MB of additional disk space will be used.\n",
            "Get:1 http://archive.ubuntu.com/ubuntu bionic-updates/universe amd64 chromium-codecs-ffmpeg-extra amd64 99.0.4844.84-0ubuntu0.18.04.1 [1,142 kB]\n",
            "Get:2 http://archive.ubuntu.com/ubuntu bionic-updates/universe amd64 chromium-browser amd64 99.0.4844.84-0ubuntu0.18.04.1 [77.7 MB]\n",
            "Get:3 http://archive.ubuntu.com/ubuntu bionic-updates/universe amd64 chromium-browser-l10n all 99.0.4844.84-0ubuntu0.18.04.1 [4,397 kB]\n",
            "Get:4 http://archive.ubuntu.com/ubuntu bionic-updates/universe amd64 chromium-chromedriver amd64 99.0.4844.84-0ubuntu0.18.04.1 [5,092 kB]\n",
            "Fetched 88.3 MB in 1s (70.1 MB/s)\n",
            "Selecting previously unselected package chromium-codecs-ffmpeg-extra.\n",
            "(Reading database ... 156210 files and directories currently installed.)\n",
            "Preparing to unpack .../chromium-codecs-ffmpeg-extra_99.0.4844.84-0ubuntu0.18.04.1_amd64.deb ...\n",
            "Unpacking chromium-codecs-ffmpeg-extra (99.0.4844.84-0ubuntu0.18.04.1) ...\n",
            "Selecting previously unselected package chromium-browser.\n",
            "Preparing to unpack .../chromium-browser_99.0.4844.84-0ubuntu0.18.04.1_amd64.deb ...\n",
            "Unpacking chromium-browser (99.0.4844.84-0ubuntu0.18.04.1) ...\n",
            "Selecting previously unselected package chromium-browser-l10n.\n",
            "Preparing to unpack .../chromium-browser-l10n_99.0.4844.84-0ubuntu0.18.04.1_all.deb ...\n",
            "Unpacking chromium-browser-l10n (99.0.4844.84-0ubuntu0.18.04.1) ...\n",
            "Selecting previously unselected package chromium-chromedriver.\n",
            "Preparing to unpack .../chromium-chromedriver_99.0.4844.84-0ubuntu0.18.04.1_amd64.deb ...\n",
            "Unpacking chromium-chromedriver (99.0.4844.84-0ubuntu0.18.04.1) ...\n",
            "Setting up chromium-codecs-ffmpeg-extra (99.0.4844.84-0ubuntu0.18.04.1) ...\n",
            "Setting up chromium-browser (99.0.4844.84-0ubuntu0.18.04.1) ...\n",
            "update-alternatives: using /usr/bin/chromium-browser to provide /usr/bin/x-www-browser (x-www-browser) in auto mode\n",
            "update-alternatives: using /usr/bin/chromium-browser to provide /usr/bin/gnome-www-browser (gnome-www-browser) in auto mode\n",
            "Setting up chromium-chromedriver (99.0.4844.84-0ubuntu0.18.04.1) ...\n",
            "Setting up chromium-browser-l10n (99.0.4844.84-0ubuntu0.18.04.1) ...\n",
            "Processing triggers for man-db (2.8.3-2ubuntu0.1) ...\n",
            "Processing triggers for hicolor-icon-theme (0.17-2) ...\n",
            "Processing triggers for mime-support (3.60ubuntu1) ...\n",
            "Processing triggers for libc-bin (2.27-3ubuntu1.3) ...\n",
            "/sbin/ldconfig.real: /usr/local/lib/python3.7/dist-packages/ideep4py/lib/libmkldnn.so.0 is not a symbolic link\n",
            "\n"
          ]
        },
        {
          "output_type": "stream",
          "name": "stderr",
          "text": [
            "/usr/local/lib/python3.7/dist-packages/ipykernel_launcher.py:11: DeprecationWarning: use options instead of chrome_options\n",
            "  # This is added back by InteractiveShellApp.init_path()\n"
          ]
        }
      ]
    },
    {
      "cell_type": "code",
      "source": [
        "# To use Chromedriver on your computer, run this code\n",
        "import selenium.webdriver\n",
        "\n",
        "driver = selenium.webdriver.Chrome()"
      ],
      "metadata": {
        "id": "wEEp_z8JQFgn",
        "colab": {
          "base_uri": "https://localhost:8080/",
          "height": 728
        },
        "outputId": "cb295e42-0e84-4bf2-bd07-b5a9b6b83153"
      },
      "id": "wEEp_z8JQFgn",
      "execution_count": null,
      "outputs": [
        {
          "output_type": "error",
          "ename": "WebDriverException",
          "evalue": "ignored",
          "traceback": [
            "\u001b[0;31m---------------------------------------------------------------------------\u001b[0m",
            "\u001b[0;31mWebDriverException\u001b[0m                        Traceback (most recent call last)",
            "\u001b[0;32m<ipython-input-3-aae81eac8af3>\u001b[0m in \u001b[0;36m<module>\u001b[0;34m()\u001b[0m\n\u001b[1;32m      2\u001b[0m \u001b[0;32mimport\u001b[0m \u001b[0mselenium\u001b[0m\u001b[0;34m.\u001b[0m\u001b[0mwebdriver\u001b[0m\u001b[0;34m\u001b[0m\u001b[0;34m\u001b[0m\u001b[0m\n\u001b[1;32m      3\u001b[0m \u001b[0;34m\u001b[0m\u001b[0m\n\u001b[0;32m----> 4\u001b[0;31m \u001b[0mdriver\u001b[0m \u001b[0;34m=\u001b[0m \u001b[0mselenium\u001b[0m\u001b[0;34m.\u001b[0m\u001b[0mwebdriver\u001b[0m\u001b[0;34m.\u001b[0m\u001b[0mChrome\u001b[0m\u001b[0;34m(\u001b[0m\u001b[0;34m)\u001b[0m\u001b[0;34m\u001b[0m\u001b[0;34m\u001b[0m\u001b[0m\n\u001b[0m",
            "\u001b[0;32m/usr/local/lib/python3.7/dist-packages/selenium/webdriver/chrome/webdriver.py\u001b[0m in \u001b[0;36m__init__\u001b[0;34m(self, executable_path, port, options, service_args, desired_capabilities, service_log_path, chrome_options, service, keep_alive)\u001b[0m\n\u001b[1;32m     71\u001b[0m                                         \u001b[0mport\u001b[0m\u001b[0;34m,\u001b[0m \u001b[0moptions\u001b[0m\u001b[0;34m,\u001b[0m\u001b[0;34m\u001b[0m\u001b[0;34m\u001b[0m\u001b[0m\n\u001b[1;32m     72\u001b[0m                                         \u001b[0mservice_args\u001b[0m\u001b[0;34m,\u001b[0m \u001b[0mdesired_capabilities\u001b[0m\u001b[0;34m,\u001b[0m\u001b[0;34m\u001b[0m\u001b[0;34m\u001b[0m\u001b[0m\n\u001b[0;32m---> 73\u001b[0;31m                                         service_log_path, service, keep_alive)\n\u001b[0m",
            "\u001b[0;32m/usr/local/lib/python3.7/dist-packages/selenium/webdriver/chromium/webdriver.py\u001b[0m in \u001b[0;36m__init__\u001b[0;34m(self, browser_name, vendor_prefix, port, options, service_args, desired_capabilities, service_log_path, service, keep_alive)\u001b[0m\n\u001b[1;32m     97\u001b[0m                     \u001b[0mbrowser_name\u001b[0m\u001b[0;34m=\u001b[0m\u001b[0mbrowser_name\u001b[0m\u001b[0;34m,\u001b[0m \u001b[0mvendor_prefix\u001b[0m\u001b[0;34m=\u001b[0m\u001b[0mvendor_prefix\u001b[0m\u001b[0;34m,\u001b[0m\u001b[0;34m\u001b[0m\u001b[0;34m\u001b[0m\u001b[0m\n\u001b[1;32m     98\u001b[0m                     keep_alive=keep_alive, ignore_proxy=_ignore_proxy),\n\u001b[0;32m---> 99\u001b[0;31m                 options=options)\n\u001b[0m\u001b[1;32m    100\u001b[0m         \u001b[0;32mexcept\u001b[0m \u001b[0mException\u001b[0m\u001b[0;34m:\u001b[0m\u001b[0;34m\u001b[0m\u001b[0;34m\u001b[0m\u001b[0m\n\u001b[1;32m    101\u001b[0m             \u001b[0mself\u001b[0m\u001b[0;34m.\u001b[0m\u001b[0mquit\u001b[0m\u001b[0;34m(\u001b[0m\u001b[0;34m)\u001b[0m\u001b[0;34m\u001b[0m\u001b[0;34m\u001b[0m\u001b[0m\n",
            "\u001b[0;32m/usr/local/lib/python3.7/dist-packages/selenium/webdriver/remote/webdriver.py\u001b[0m in \u001b[0;36m__init__\u001b[0;34m(self, command_executor, desired_capabilities, browser_profile, proxy, keep_alive, file_detector, options)\u001b[0m\n\u001b[1;32m    267\u001b[0m         \u001b[0mself\u001b[0m\u001b[0;34m.\u001b[0m\u001b[0mfile_detector\u001b[0m \u001b[0;34m=\u001b[0m \u001b[0mfile_detector\u001b[0m \u001b[0;32mor\u001b[0m \u001b[0mLocalFileDetector\u001b[0m\u001b[0;34m(\u001b[0m\u001b[0;34m)\u001b[0m\u001b[0;34m\u001b[0m\u001b[0;34m\u001b[0m\u001b[0m\n\u001b[1;32m    268\u001b[0m         \u001b[0mself\u001b[0m\u001b[0;34m.\u001b[0m\u001b[0mstart_client\u001b[0m\u001b[0;34m(\u001b[0m\u001b[0;34m)\u001b[0m\u001b[0;34m\u001b[0m\u001b[0;34m\u001b[0m\u001b[0m\n\u001b[0;32m--> 269\u001b[0;31m         \u001b[0mself\u001b[0m\u001b[0;34m.\u001b[0m\u001b[0mstart_session\u001b[0m\u001b[0;34m(\u001b[0m\u001b[0mcapabilities\u001b[0m\u001b[0;34m,\u001b[0m \u001b[0mbrowser_profile\u001b[0m\u001b[0;34m)\u001b[0m\u001b[0;34m\u001b[0m\u001b[0;34m\u001b[0m\u001b[0m\n\u001b[0m\u001b[1;32m    270\u001b[0m \u001b[0;34m\u001b[0m\u001b[0m\n\u001b[1;32m    271\u001b[0m     \u001b[0;32mdef\u001b[0m \u001b[0m__repr__\u001b[0m\u001b[0;34m(\u001b[0m\u001b[0mself\u001b[0m\u001b[0;34m)\u001b[0m\u001b[0;34m:\u001b[0m\u001b[0;34m\u001b[0m\u001b[0;34m\u001b[0m\u001b[0m\n",
            "\u001b[0;32m/usr/local/lib/python3.7/dist-packages/selenium/webdriver/remote/webdriver.py\u001b[0m in \u001b[0;36mstart_session\u001b[0;34m(self, capabilities, browser_profile)\u001b[0m\n\u001b[1;32m    358\u001b[0m         parameters = {\"capabilities\": w3c_caps,\n\u001b[1;32m    359\u001b[0m                       \"desiredCapabilities\": capabilities}\n\u001b[0;32m--> 360\u001b[0;31m         \u001b[0mresponse\u001b[0m \u001b[0;34m=\u001b[0m \u001b[0mself\u001b[0m\u001b[0;34m.\u001b[0m\u001b[0mexecute\u001b[0m\u001b[0;34m(\u001b[0m\u001b[0mCommand\u001b[0m\u001b[0;34m.\u001b[0m\u001b[0mNEW_SESSION\u001b[0m\u001b[0;34m,\u001b[0m \u001b[0mparameters\u001b[0m\u001b[0;34m)\u001b[0m\u001b[0;34m\u001b[0m\u001b[0;34m\u001b[0m\u001b[0m\n\u001b[0m\u001b[1;32m    361\u001b[0m         \u001b[0;32mif\u001b[0m \u001b[0;34m'sessionId'\u001b[0m \u001b[0;32mnot\u001b[0m \u001b[0;32min\u001b[0m \u001b[0mresponse\u001b[0m\u001b[0;34m:\u001b[0m\u001b[0;34m\u001b[0m\u001b[0;34m\u001b[0m\u001b[0m\n\u001b[1;32m    362\u001b[0m             \u001b[0mresponse\u001b[0m \u001b[0;34m=\u001b[0m \u001b[0mresponse\u001b[0m\u001b[0;34m[\u001b[0m\u001b[0;34m'value'\u001b[0m\u001b[0;34m]\u001b[0m\u001b[0;34m\u001b[0m\u001b[0;34m\u001b[0m\u001b[0m\n",
            "\u001b[0;32m/usr/local/lib/python3.7/dist-packages/selenium/webdriver/remote/webdriver.py\u001b[0m in \u001b[0;36mexecute\u001b[0;34m(self, driver_command, params)\u001b[0m\n\u001b[1;32m    423\u001b[0m         \u001b[0mresponse\u001b[0m \u001b[0;34m=\u001b[0m \u001b[0mself\u001b[0m\u001b[0;34m.\u001b[0m\u001b[0mcommand_executor\u001b[0m\u001b[0;34m.\u001b[0m\u001b[0mexecute\u001b[0m\u001b[0;34m(\u001b[0m\u001b[0mdriver_command\u001b[0m\u001b[0;34m,\u001b[0m \u001b[0mparams\u001b[0m\u001b[0;34m)\u001b[0m\u001b[0;34m\u001b[0m\u001b[0;34m\u001b[0m\u001b[0m\n\u001b[1;32m    424\u001b[0m         \u001b[0;32mif\u001b[0m \u001b[0mresponse\u001b[0m\u001b[0;34m:\u001b[0m\u001b[0;34m\u001b[0m\u001b[0;34m\u001b[0m\u001b[0m\n\u001b[0;32m--> 425\u001b[0;31m             \u001b[0mself\u001b[0m\u001b[0;34m.\u001b[0m\u001b[0merror_handler\u001b[0m\u001b[0;34m.\u001b[0m\u001b[0mcheck_response\u001b[0m\u001b[0;34m(\u001b[0m\u001b[0mresponse\u001b[0m\u001b[0;34m)\u001b[0m\u001b[0;34m\u001b[0m\u001b[0;34m\u001b[0m\u001b[0m\n\u001b[0m\u001b[1;32m    426\u001b[0m             response['value'] = self._unwrap_value(\n\u001b[1;32m    427\u001b[0m                 response.get('value', None))\n",
            "\u001b[0;32m/usr/local/lib/python3.7/dist-packages/selenium/webdriver/remote/errorhandler.py\u001b[0m in \u001b[0;36mcheck_response\u001b[0;34m(self, response)\u001b[0m\n\u001b[1;32m    245\u001b[0m                 \u001b[0malert_text\u001b[0m \u001b[0;34m=\u001b[0m \u001b[0mvalue\u001b[0m\u001b[0;34m[\u001b[0m\u001b[0;34m'alert'\u001b[0m\u001b[0;34m]\u001b[0m\u001b[0;34m.\u001b[0m\u001b[0mget\u001b[0m\u001b[0;34m(\u001b[0m\u001b[0;34m'text'\u001b[0m\u001b[0;34m)\u001b[0m\u001b[0;34m\u001b[0m\u001b[0;34m\u001b[0m\u001b[0m\n\u001b[1;32m    246\u001b[0m             \u001b[0;32mraise\u001b[0m \u001b[0mexception_class\u001b[0m\u001b[0;34m(\u001b[0m\u001b[0mmessage\u001b[0m\u001b[0;34m,\u001b[0m \u001b[0mscreen\u001b[0m\u001b[0;34m,\u001b[0m \u001b[0mstacktrace\u001b[0m\u001b[0;34m,\u001b[0m \u001b[0malert_text\u001b[0m\u001b[0;34m)\u001b[0m  \u001b[0;31m# type: ignore[call-arg]  # mypy is not smart enough here\u001b[0m\u001b[0;34m\u001b[0m\u001b[0;34m\u001b[0m\u001b[0m\n\u001b[0;32m--> 247\u001b[0;31m         \u001b[0;32mraise\u001b[0m \u001b[0mexception_class\u001b[0m\u001b[0;34m(\u001b[0m\u001b[0mmessage\u001b[0m\u001b[0;34m,\u001b[0m \u001b[0mscreen\u001b[0m\u001b[0;34m,\u001b[0m \u001b[0mstacktrace\u001b[0m\u001b[0;34m)\u001b[0m\u001b[0;34m\u001b[0m\u001b[0;34m\u001b[0m\u001b[0m\n\u001b[0m\u001b[1;32m    248\u001b[0m \u001b[0;34m\u001b[0m\u001b[0m\n\u001b[1;32m    249\u001b[0m     \u001b[0;32mdef\u001b[0m \u001b[0m_value_or_default\u001b[0m\u001b[0;34m(\u001b[0m\u001b[0mself\u001b[0m\u001b[0;34m,\u001b[0m \u001b[0mobj\u001b[0m\u001b[0;34m:\u001b[0m \u001b[0mMapping\u001b[0m\u001b[0;34m[\u001b[0m\u001b[0m_KT\u001b[0m\u001b[0;34m,\u001b[0m \u001b[0m_VT\u001b[0m\u001b[0;34m]\u001b[0m\u001b[0;34m,\u001b[0m \u001b[0mkey\u001b[0m\u001b[0;34m:\u001b[0m \u001b[0m_KT\u001b[0m\u001b[0;34m,\u001b[0m \u001b[0mdefault\u001b[0m\u001b[0;34m:\u001b[0m \u001b[0m_VT\u001b[0m\u001b[0;34m)\u001b[0m \u001b[0;34m->\u001b[0m \u001b[0m_VT\u001b[0m\u001b[0;34m:\u001b[0m\u001b[0;34m\u001b[0m\u001b[0;34m\u001b[0m\u001b[0m\n",
            "\u001b[0;31mWebDriverException\u001b[0m: Message: unknown error: Chrome failed to start: exited abnormally.\n  (unknown error: DevToolsActivePort file doesn't exist)\n  (The process started from chrome location /usr/bin/chromium-browser is no longer running, so ChromeDriver is assuming that Chrome has crashed.)\nStacktrace:\n#0 0x556c52f42b63 <unknown>\n#1 0x556c52c38c93 <unknown>\n#2 0x556c52c5ced3 <unknown>\n#3 0x556c52c580a0 <unknown>\n#4 0x556c52c92825 <unknown>\n#5 0x556c52c8c063 <unknown>\n#6 0x556c52c62c7c <unknown>\n#7 0x556c52c64145 <unknown>\n#8 0x556c52f66fe0 <unknown>\n#9 0x556c52f7817f <unknown>\n#10 0x556c52f77f19 <unknown>\n#11 0x556c52f786e2 <unknown>\n#12 0x556c52fb13cb <unknown>\n#13 0x556c52f78941 <unknown>\n#14 0x556c52f5bd13 <unknown>\n#15 0x556c52f82098 <unknown>\n#16 0x556c52f8222a <unknown>\n#17 0x556c52f9b711 <unknown>\n#18 0x7fa4c14b16db <unknown>\n"
          ]
        }
      ]
    },
    {
      "cell_type": "code",
      "source": [
        ""
      ],
      "metadata": {
        "id": "tzXjmbH1istJ"
      },
      "id": "tzXjmbH1istJ",
      "execution_count": null,
      "outputs": []
    },
    {
      "cell_type": "markdown",
      "source": [
        "# <span style=\"color:orange\">2. The kayak.com/explore scraper</span>\n"
      ],
      "metadata": {
        "id": "L7pulYLt_2RH"
      },
      "id": "L7pulYLt_2RH"
    },
    {
      "cell_type": "markdown",
      "source": [
        "### 2.1 Define airports and extract airport urls"
      ],
      "metadata": {
        "id": "V6a0emaVAjnD"
      },
      "id": "V6a0emaVAjnD"
    },
    {
      "cell_type": "code",
      "source": [
        "# Defining base url\n",
        "base_url = 'https://www.kayak.com/explore'\n",
        "\n",
        "# Create a list of all the airports we want to extract data from\n",
        "airports = [\"LHR\", \"CDG\", \"AMS\", \"FRA\", \"MAD\", \"BCN\", \"IST\", \"SVO\", \"MUC\", \"LGW\"]\n",
        "\n",
        "# Loop for airport urls\n",
        "airport_urls = [] # Make an empty list to save the airport urls\n",
        "\n",
        "for airport in airports:\n",
        "    airport_url = 'https://www.kayak.com/explore/' + airport + '-anywhere/20220401,20220430' + '?tripdurationrange=5,5'\n",
        "    airport_urls.append(airport_url) \n",
        "airport_urls # List of urls where we want to extract data from"
      ],
      "metadata": {
        "id": "r3DpO2fuNOr_",
        "colab": {
          "base_uri": "https://localhost:8080/"
        },
        "outputId": "fe0fd583-1e1b-41f7-c82c-78c93236240c"
      },
      "id": "r3DpO2fuNOr_",
      "execution_count": null,
      "outputs": [
        {
          "output_type": "execute_result",
          "data": {
            "text/plain": [
              "['https://www.kayak.com/explore/LHR-anywhere/20220401,20220430?tripdurationrange=5,5',\n",
              " 'https://www.kayak.com/explore/CDG-anywhere/20220401,20220430?tripdurationrange=5,5',\n",
              " 'https://www.kayak.com/explore/AMS-anywhere/20220401,20220430?tripdurationrange=5,5',\n",
              " 'https://www.kayak.com/explore/FRA-anywhere/20220401,20220430?tripdurationrange=5,5',\n",
              " 'https://www.kayak.com/explore/MAD-anywhere/20220401,20220430?tripdurationrange=5,5',\n",
              " 'https://www.kayak.com/explore/BCN-anywhere/20220401,20220430?tripdurationrange=5,5',\n",
              " 'https://www.kayak.com/explore/IST-anywhere/20220401,20220430?tripdurationrange=5,5',\n",
              " 'https://www.kayak.com/explore/SVO-anywhere/20220401,20220430?tripdurationrange=5,5',\n",
              " 'https://www.kayak.com/explore/MUC-anywhere/20220401,20220430?tripdurationrange=5,5',\n",
              " 'https://www.kayak.com/explore/LGW-anywhere/20220401,20220430?tripdurationrange=5,5']"
            ]
          },
          "metadata": {},
          "execution_count": 4
        }
      ]
    },
    {
      "cell_type": "markdown",
      "source": [
        "### 2.2 HTLM code of the city names, country names and prices\n",
        "\n",
        "Code of the header where to get the information from: id = \"JoPq-destinations\" and class = \"_ihz _ilc _iai\">\n",
        "# <div id=\"JoPq-destinations\" class=\"_ihz _ilc _iai\">\n",
        "\n",
        "City name code: \"_ib0 _igh _ial _1O _iaj City__Name\"\n",
        "For example: <div class=\"_ib0 _igh _ial _1O _iaj City__Name\">Bucharest</div>\n",
        "\n",
        "Country name code class = \"_iC8 _1W _ib0 _iYh _igh Country__Name\"\n",
        "For example: <div class=\"_iC8 _1W _ib0 _iYh _igh Country__Name\">Romania</div>\n",
        "\n",
        "Prices code: \"_ib0 _18 _igh _ial _iaj\"\n",
        "For example: <div class=\"_ib0 _18 _igh _ial _iaj\">from $52</div>\n",
        "\n",
        "These HTML codes will be used in the next step"
      ],
      "metadata": {
        "id": "If8IqrkwRRhS"
      },
      "id": "If8IqrkwRRhS"
    },
    {
      "cell_type": "markdown",
      "source": [
        "### 2.3 Extract data from urls"
      ],
      "metadata": {
        "id": "40XjOePLTVu5"
      },
      "id": "40XjOePLTVu5"
    },
    {
      "cell_type": "code",
      "source": [
        "# From airport_urls we want to scrape the 16 destinations and prices per url\n",
        "destination_city=[]\n",
        "destination_country=[]\n",
        "destination_price=[]2\n",
        "driver.get('https://www.kayak.com/explore/' + airport + '-anywhere/20220401,20220430' + '?tripdurationrange=5,5')"
      ],
      "metadata": {
        "id": "qXu24nEVRKBl"
      },
      "id": "qXu24nEVRKBl",
      "execution_count": null,
      "outputs": []
    },
    {
      "cell_type": "code",
      "source": [
        "id = driver.find_elements_by_class_name('_ihz _ilc _iai')"
      ],
      "metadata": {
        "colab": {
          "base_uri": "https://localhost:8080/"
        },
        "id": "mCVN5S7PFP07",
        "outputId": "5c973ac0-60f9-40d8-c68d-7bbbe19eddb2"
      },
      "id": "mCVN5S7PFP07",
      "execution_count": null,
      "outputs": [
        {
          "output_type": "stream",
          "name": "stderr",
          "text": [
            "/usr/local/lib/python3.7/dist-packages/ipykernel_launcher.py:1: DeprecationWarning: find_elements_by_class_name is deprecated. Please use find_elements(by=By.CLASS_NAME, value=name) instead\n",
            "  \"\"\"Entry point for launching an IPython kernel.\n"
          ]
        }
      ]
    },
    {
      "cell_type": "code",
      "source": [
        "# Code to sum up all the city names, country names and prices per airport_url\n",
        "content = driver.page_source\n",
        "soup = BeautifulSoup(content)\n",
        "for a in soup.findAll('id',href=True, attrs={'class':'_ihz _ilc _iai'}):\n",
        "city=id.find('div', attrs={'class':'_ib0 _igh _ial _1O _iaj City__Name'})\n",
        "country=id.find('div', attrs={'class':'_iC8 _1W _ib0 _iYh _igh Country__Name'})\n",
        "price=id.find('div', attrs={'class':'_ib0 _18 _igh _ial _iaj'})\n",
        "\n",
        "city.append(city.text) # To get the city names\n",
        "country.append(country.text) # To get the country names\n",
        "price.append(prices.text) # To get the prices\n",
        "\n",
        "# Create a dataframe with all the information scraped from the urls\n",
        "df = pd.DataFrame({'City':cities,'countries':countries,'Price':prices})"
      ],
      "metadata": {
        "id": "ML28gFftRJe8"
      },
      "id": "ML28gFftRJe8",
      "execution_count": null,
      "outputs": []
    },
    {
      "cell_type": "markdown",
      "source": [
        "# <span style=\"color:orange\">3. Saving the scraped data in a csv file</span>\n"
      ],
      "metadata": {
        "id": "d6ilayihAEaB"
      },
      "id": "d6ilayihAEaB"
    },
    {
      "cell_type": "code",
      "source": [
        ""
      ],
      "metadata": {
        "id": "yb2-DgMNTjhd"
      },
      "id": "yb2-DgMNTjhd",
      "execution_count": null,
      "outputs": []
    }
  ],
  "metadata": {
    "kernelspec": {
      "display_name": "Python 3 (ipykernel)",
      "language": "python",
      "name": "python3"
    },
    "language_info": {
      "codemirror_mode": {
        "name": "ipython",
        "version": 3
      },
      "file_extension": ".py",
      "mimetype": "text/x-python",
      "name": "python",
      "nbconvert_exporter": "python",
      "pygments_lexer": "ipython3",
      "version": "3.9.7"
    },
    "colab": {
      "name": "KAYAK.ipynb",
      "provenance": [],
      "collapsed_sections": [],
      "include_colab_link": true
    }
  },
  "nbformat": 4,
  "nbformat_minor": 5
}